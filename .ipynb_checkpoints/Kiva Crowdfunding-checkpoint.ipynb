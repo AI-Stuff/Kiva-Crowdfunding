{
 "cells": [
  {
   "cell_type": "markdown",
   "metadata": {},
   "source": [
    "Welcome to my notebook!<br>\n",
    "This is my first notebook that is not based in a class or project from a course so please let me know how I can make it better. I bet many of you will have suggestions and criticism. In the end, I'm here to learn, be better and decided to test my knowledge with Kiva's project.<br>\n",
    "If you think this notebook is heading somewhere and can be meaningful to others then upvote it! I'll like to have as many people looking at my notebook and share their point of view. You don't get better by just being told you are doing a good job, but rather by suggestions and criticism.<br>\n",
    "Thank you!"
   ]
  },
  {
   "cell_type": "markdown",
   "metadata": {},
   "source": [
    "# Glossary\n",
    "\n",
    "- <a href='#introduction'>1 Intruction of notebook:</a>\n",
    "- <a href='#import'>2 Importing and installing dependencies:</a>\n",
    "- <a href='#manipulating'>3 Manipulating the dataset for better usage:</a>\n",
    "    - <a href='#dataset'>3.1 Saving and displaying parts of the dataset</a>\n",
    "    - <a href='#converting'>3.2 Converting columns to lower case and displaying them</a>\n",
    "    - <a href='#description'>3.3 Displying the total amount of rows the dataset has in each column</a>\n",
    "    - <a href='#overview'>3.4 Overview of the dataset:</a>\n",
    "    - <a href='#missingvalues'>3.5 Checking if any of the columns have any missing values:<a/>\n",
    "- <a href='#kivaloans'>4 Analyzing Kiva's loans:</a>\n",
    "    - <a href='#countries'>2.1 Displaying the countries and sectors that got the most money invested</a>\n",
    "    - <a href='#sectors'>2.2 Displaying the sectors that got the most money invested</a>\n",
    "- <a href='#philippines'>3.0 Analyzing the Philippines:</a>\n",
    "    - <a href='#philippinesintro'>3.1 Introduction of the Philippines</a>\n",
    "    - <a href='#philippinesdataset'>3.2 Analyzing only the Philippines from the dataset</a>\n",
    "        - <a href='#philippinesloans'>3.2.1 Displaying where the loans are going based in the sector</a>\n",
    "        - <a href='#philippinesretail'>3.2.2 Analyzing the retail sector</a>\n",
    "        - <a href='#philippinesactivity'>3.2.3 Analyzing the most common usage of loans in retail</a>\n",
    "        - <a href='#philippinestimeline'>3.2.3 Analyzing whether this borrowing pattern has increased overtime based on the timeline provided in the dataset</a>\n",
    "        - <a href='#philippinesrepayment'>3.2.4 Analyzing if Philippines repays the loans</a>\n",
    "- <a href='#kenya'>4.0 Analyzing Kenya:</a>\n",
    "    - <a href='#kenyaintro'>4.1 Introduction of Kenya</a>\n",
    "    - <a href='#kenyadataset'>4.2 Analyzing only Kenya from the dataset</a>\n",
    "        - <a href='#kenyasector'>4.2.1 Displaying where the loans are going based in the sector</a>\n",
    "        - <a href='#kenyaactivity'>4.2.2 Analyzing each activity in more detail</a>\n",
    "- <a href='#salvador'>5.0 Analyzing Kenya:</a>\n",
    "    - <a href='#salvadorintro'>5.1 Introduction of Kenya</a>\n",
    "    - <a href='#salvadordataset'>5.2 Analyzing only Kenya from the dataset</a>\n",
    "    - <a href='#salvadorsector'>5.3 Displaying where the loans are going based in the sector</a>\n",
    "        - <a href='#salvadoractivity'>5.3.1 Analyzing each activity in agriculture</a>\n",
    "        - <a href='#salvadoruse'>5.3.2 Analyzing the different uses of the money in agriculture</a>"
   ]
  },
  {
   "cell_type": "markdown",
   "metadata": {},
   "source": [
    "# <a id='introduction'>1 Introduction of notebook</a>"
   ]
  },
  {
   "cell_type": "markdown",
   "metadata": {},
   "source": [
    "# Data Science for Good: Kiva Crowdfunding"
   ]
  },
  {
   "cell_type": "markdown",
   "metadata": {},
   "source": [
    "Kiva.org is an online crowdfunding platform to extend financial services to poor and financially excluded people around the world. Kiva lenders have provided over $1 billion dollars in loans to over 2 million people. In order to set investment priorities, help inform lenders, and understand their target communities, knowing the level of poverty of each borrower is critical. However, this requires inference based on a limited set of information for each borrower.\n",
    "\n",
    "In Kaggle Datasets' inaugural Data Science for Good challenge, Kiva is inviting the Kaggle community to help them build more localized models to estimate the poverty levels of residents in the regions where Kiva has active loans. Unlike traditional machine learning competitions with rigid evaluation criteria, participants will develop their own creative approaches to addressing the objective. Instead of making a prediction file as in a supervised machine learning problem, submissions in this challenge will take the form of Python and/or R data analyses using Kernels, Kaggle's hosted Jupyter Notebooks-based workbench.\n",
    "\n",
    "Kiva has provided a dataset of loans issued over the last two years, and participants are invited to use this data as well as source external public datasets to help Kiva build models for assessing borrower welfare levels. Participants will write kernels on this dataset to submit as solutions to this objective and five winners will be selected by Kiva judges at the close of the event. In addition, awards will be made to encourage public code and data sharing. With a stronger understanding of their borrowers and their poverty levels, Kiva will be able to better assess and maximize the impact of their work.\n",
    "\n",
    "The sections that follow describe in more detail how to participate, win, and use available resources to make a contribution towards helping Kiva better understand and help entrepreneurs around the world."
   ]
  },
  {
   "cell_type": "markdown",
   "metadata": {},
   "source": [
    "# <a id=\"iimport\">2 Importing and installing dependencies:</a>"
   ]
  },
  {
   "cell_type": "code",
   "execution_count": 1,
   "metadata": {},
   "outputs": [
    {
     "name": "stdout",
     "output_type": "stream",
     "text": [
      "Installed all dependencies!\n"
     ]
    }
   ],
   "source": [
    "# Importing dependencies:\n",
    "import numpy as np\n",
    "import pandas as pd\n",
    "import seaborn as sns\n",
    "import matplotlib.pyplot as plt\n",
    "%matplotlib inline\n",
    "\n",
    "print('Installed all dependencies!')"
   ]
  },
  {
   "cell_type": "markdown",
   "metadata": {},
   "source": [
    "# <a id='manipulating'>3 Manipulating the dataset for better usage</a>"
   ]
  },
  {
   "cell_type": "markdown",
   "metadata": {},
   "source": [
    "## <a id='dataset'>3.1 Saving and displaying parts of the dataset:</a>"
   ]
  },
  {
   "cell_type": "code",
   "execution_count": 2,
   "metadata": {},
   "outputs": [
    {
     "data": {
      "text/html": [
       "<div>\n",
       "<style scoped>\n",
       "    .dataframe tbody tr th:only-of-type {\n",
       "        vertical-align: middle;\n",
       "    }\n",
       "\n",
       "    .dataframe tbody tr th {\n",
       "        vertical-align: top;\n",
       "    }\n",
       "\n",
       "    .dataframe thead th {\n",
       "        text-align: right;\n",
       "    }\n",
       "</style>\n",
       "<table border=\"1\" class=\"dataframe\">\n",
       "  <thead>\n",
       "    <tr style=\"text-align: right;\">\n",
       "      <th></th>\n",
       "      <th>ISO</th>\n",
       "      <th>Country</th>\n",
       "      <th>MPI Urban</th>\n",
       "      <th>Headcount Ratio Urban</th>\n",
       "      <th>Intensity of Deprivation Urban</th>\n",
       "      <th>MPI Rural</th>\n",
       "      <th>Headcount Ratio Rural</th>\n",
       "      <th>Intensity of Deprivation Rural</th>\n",
       "    </tr>\n",
       "  </thead>\n",
       "  <tbody>\n",
       "    <tr>\n",
       "      <th>0</th>\n",
       "      <td>KAZ</td>\n",
       "      <td>Kazakhstan</td>\n",
       "      <td>0.000</td>\n",
       "      <td>0.0</td>\n",
       "      <td>33.3</td>\n",
       "      <td>0.000</td>\n",
       "      <td>0.09</td>\n",
       "      <td>33.3</td>\n",
       "    </tr>\n",
       "    <tr>\n",
       "      <th>1</th>\n",
       "      <td>SRB</td>\n",
       "      <td>Serbia</td>\n",
       "      <td>0.000</td>\n",
       "      <td>0.1</td>\n",
       "      <td>41.4</td>\n",
       "      <td>0.002</td>\n",
       "      <td>0.50</td>\n",
       "      <td>40.3</td>\n",
       "    </tr>\n",
       "    <tr>\n",
       "      <th>2</th>\n",
       "      <td>KGZ</td>\n",
       "      <td>Kyrgyzstan</td>\n",
       "      <td>0.000</td>\n",
       "      <td>0.1</td>\n",
       "      <td>40.2</td>\n",
       "      <td>0.003</td>\n",
       "      <td>0.70</td>\n",
       "      <td>37.1</td>\n",
       "    </tr>\n",
       "    <tr>\n",
       "      <th>3</th>\n",
       "      <td>TUN</td>\n",
       "      <td>Tunisia</td>\n",
       "      <td>0.000</td>\n",
       "      <td>0.1</td>\n",
       "      <td>35.6</td>\n",
       "      <td>0.012</td>\n",
       "      <td>3.18</td>\n",
       "      <td>38.7</td>\n",
       "    </tr>\n",
       "    <tr>\n",
       "      <th>4</th>\n",
       "      <td>ARM</td>\n",
       "      <td>Armenia</td>\n",
       "      <td>0.001</td>\n",
       "      <td>0.2</td>\n",
       "      <td>33.3</td>\n",
       "      <td>0.001</td>\n",
       "      <td>0.39</td>\n",
       "      <td>36.9</td>\n",
       "    </tr>\n",
       "  </tbody>\n",
       "</table>\n",
       "</div>"
      ],
      "text/plain": [
       "   ISO     Country  MPI Urban  Headcount Ratio Urban  \\\n",
       "0  KAZ  Kazakhstan      0.000                    0.0   \n",
       "1  SRB      Serbia      0.000                    0.1   \n",
       "2  KGZ  Kyrgyzstan      0.000                    0.1   \n",
       "3  TUN     Tunisia      0.000                    0.1   \n",
       "4  ARM     Armenia      0.001                    0.2   \n",
       "\n",
       "   Intensity of Deprivation Urban  MPI Rural  Headcount Ratio Rural  \\\n",
       "0                            33.3      0.000                   0.09   \n",
       "1                            41.4      0.002                   0.50   \n",
       "2                            40.2      0.003                   0.70   \n",
       "3                            35.6      0.012                   3.18   \n",
       "4                            33.3      0.001                   0.39   \n",
       "\n",
       "   Intensity of Deprivation Rural  \n",
       "0                            33.3  \n",
       "1                            40.3  \n",
       "2                            37.1  \n",
       "3                            38.7  \n",
       "4                            36.9  "
      ]
     },
     "execution_count": 2,
     "metadata": {},
     "output_type": "execute_result"
    }
   ],
   "source": [
    "# Exploring the data:\n",
    "\n",
    "# Kiva dataset:\n",
    "kiva_loans = pd.read_csv('../kiva_loans.csv')\n",
    "kiva_mpi_region_locations = pd.read_csv('../kiva_mpi_region_locations.csv')\n",
    "loan_theme_ids = pd.read_csv('../loan_theme_ids.csv')\n",
    "loan_themes_by_region = pd.read_csv('../loan_themes_by_region.csv')\n",
    "\n",
    "# Multidimensional Poverty Index:\n",
    "MPI_national = pd.read_csv('../MPI_national.csv')\n",
    "MPI_subnational = pd.read_csv('../MPI_subnational.csv')\n",
    "\n",
    "MPI_national.head()"
   ]
  },
  {
   "cell_type": "markdown",
   "metadata": {},
   "source": [
    "## <a id='converting'>3.2 Converting columns to lower case and displaying all of them:</a>"
   ]
  },
  {
   "cell_type": "code",
   "execution_count": 3,
   "metadata": {},
   "outputs": [
    {
     "name": "stdout",
     "output_type": "stream",
     "text": [
      "Kiva Loans Columns:                       0\n",
      "0                   id\n",
      "1        funded_amount\n",
      "2          loan_amount\n",
      "3             activity\n",
      "4               sector\n",
      "5                  use\n",
      "6         country_code\n",
      "7              country\n",
      "8               region\n",
      "9             currency\n",
      "10          partner_id\n",
      "11         posted_time\n",
      "12      disbursed_time\n",
      "13         funded_time\n",
      "14      term_in_months\n",
      "15        lender_count\n",
      "16                tags\n",
      "17    borrower_genders\n",
      "18  repayment_interval\n",
      "19                date\n"
     ]
    }
   ],
   "source": [
    "# Converting dataset to lowercase for easier future use:\n",
    "\n",
    "kiva_loans.columns = [x.lower() for x in kiva_loans.columns]\n",
    "kiva_mpi_region_locations.columns = [x.lower() for x in kiva_mpi_region_locations.columns]\n",
    "loan_theme_ids.columns = [x.lower() for x in loan_theme_ids.columns]\n",
    "loan_themes_by_region.columns = [x.lower() for x in loan_themes_by_region.columns]\n",
    "MPI_national.columns = [x.lower() for x in MPI_national.columns]\n",
    "MPI_subnational.columns = [x.lower() for x in MPI_subnational.columns]\n",
    "\n",
    "print('Kiva Loans Columns: ', pd.DataFrame(kiva_loans.columns))"
   ]
  },
  {
   "cell_type": "code",
   "execution_count": 4,
   "metadata": {},
   "outputs": [
    {
     "name": "stdout",
     "output_type": "stream",
     "text": [
      "Kiva MPI Region Locations Columns:                0\n",
      "0  locationname\n",
      "1           iso\n",
      "2       country\n",
      "3        region\n",
      "4  world_region\n",
      "5           mpi\n",
      "6           geo\n",
      "7           lat\n",
      "8           lon\n"
     ]
    }
   ],
   "source": [
    "print('Kiva MPI Region Locations Columns: ', pd.DataFrame(kiva_mpi_region_locations.columns))"
   ]
  },
  {
   "cell_type": "code",
   "execution_count": 5,
   "metadata": {},
   "outputs": [
    {
     "name": "stdout",
     "output_type": "stream",
     "text": [
      "Loan Theme IDs Columns:                   0\n",
      "0               id\n",
      "1    loan theme id\n",
      "2  loan theme type\n",
      "3       partner id\n"
     ]
    }
   ],
   "source": [
    "print('Loan Theme IDs Columns: ', pd.DataFrame(loan_theme_ids.columns))"
   ]
  },
  {
   "cell_type": "code",
   "execution_count": 6,
   "metadata": {},
   "outputs": [
    {
     "name": "stdout",
     "output_type": "stream",
     "text": [
      "Loan Themes by Region Columns:                       0\n",
      "0           partner id\n",
      "1   field partner name\n",
      "2               sector\n",
      "3        loan theme id\n",
      "4      loan theme type\n",
      "5              country\n",
      "6              forkiva\n",
      "7               region\n",
      "8          geocode_old\n",
      "9                  iso\n",
      "10              number\n",
      "11              amount\n",
      "12        locationname\n",
      "13             geocode\n",
      "14               names\n",
      "15                 geo\n",
      "16                 lat\n",
      "17                 lon\n",
      "18          mpi_region\n",
      "19             mpi_geo\n"
     ]
    }
   ],
   "source": [
    "print('Loan Themes by Region Columns: ', pd.DataFrame(loan_themes_by_region.columns))"
   ]
  },
  {
   "cell_type": "code",
   "execution_count": 7,
   "metadata": {},
   "outputs": [
    {
     "name": "stdout",
     "output_type": "stream",
     "text": [
      "MPI National Columns:                                  0\n",
      "0                             iso\n",
      "1                         country\n",
      "2                       mpi urban\n",
      "3           headcount ratio urban\n",
      "4  intensity of deprivation urban\n",
      "5                       mpi rural\n",
      "6           headcount ratio rural\n",
      "7  intensity of deprivation rural\n"
     ]
    }
   ],
   "source": [
    "print('MPI National Columns: ', pd.DataFrame(MPI_national.columns))"
   ]
  },
  {
   "cell_type": "code",
   "execution_count": 8,
   "metadata": {
    "scrolled": false
   },
   "outputs": [
    {
     "name": "stdout",
     "output_type": "stream",
     "text": [
      "MPI Loans Columns:                       0\n",
      "0                   id\n",
      "1        funded_amount\n",
      "2          loan_amount\n",
      "3             activity\n",
      "4               sector\n",
      "5                  use\n",
      "6         country_code\n",
      "7              country\n",
      "8               region\n",
      "9             currency\n",
      "10          partner_id\n",
      "11         posted_time\n",
      "12      disbursed_time\n",
      "13         funded_time\n",
      "14      term_in_months\n",
      "15        lender_count\n",
      "16                tags\n",
      "17    borrower_genders\n",
      "18  repayment_interval\n",
      "19                date\n"
     ]
    }
   ],
   "source": [
    "print('MPI Loans Columns: ', pd.DataFrame(kiva_loans.columns))"
   ]
  },
  {
   "cell_type": "markdown",
   "metadata": {},
   "source": [
    "## <a id='description'>3.3 Displying the total amount of rows kiva_loans has in each column:</a>"
   ]
  },
  {
   "cell_type": "code",
   "execution_count": 9,
   "metadata": {},
   "outputs": [
    {
     "name": "stdout",
     "output_type": "stream",
     "text": [
      "kiva_loans Shape:  (671205, 20)\n",
      "----------------------------------------\n",
      "<class 'pandas.core.frame.DataFrame'>\n",
      "RangeIndex: 671205 entries, 0 to 671204\n",
      "Data columns (total 20 columns):\n",
      "id                    671205 non-null int64\n",
      "funded_amount         671205 non-null int64\n",
      "loan_amount           671205 non-null int64\n",
      "activity              671205 non-null object\n",
      "sector                671205 non-null object\n",
      "use                   666973 non-null object\n",
      "country_code          671197 non-null object\n",
      "country               671205 non-null object\n",
      "region                614405 non-null object\n",
      "currency              671205 non-null object\n",
      "partner_id            657698 non-null float64\n",
      "posted_time           671205 non-null object\n",
      "disbursed_time        668809 non-null object\n",
      "funded_time           622874 non-null object\n",
      "term_in_months        671205 non-null int64\n",
      "lender_count          671205 non-null int64\n",
      "tags                  499789 non-null object\n",
      "borrower_genders      666984 non-null object\n",
      "repayment_interval    671205 non-null object\n",
      "date                  671205 non-null object\n",
      "dtypes: float64(1), int64(5), object(14)\n",
      "memory usage: 102.4+ MB\n",
      "Empty DataFrame\n",
      "Columns: []\n",
      "Index: []\n"
     ]
    }
   ],
   "source": [
    "# Analizing the dataset:\n",
    "\n",
    "print('kiva_loans Shape: ', kiva_loans.shape)\n",
    "print('-' * 40)\n",
    "print(pd.DataFrame(kiva_loans.info()))"
   ]
  },
  {
   "cell_type": "markdown",
   "metadata": {},
   "source": [
    "## <a id='overview'>3.4 Overview of kiva_loans:</a>"
   ]
  },
  {
   "cell_type": "code",
   "execution_count": 10,
   "metadata": {},
   "outputs": [
    {
     "data": {
      "text/html": [
       "<div>\n",
       "<style scoped>\n",
       "    .dataframe tbody tr th:only-of-type {\n",
       "        vertical-align: middle;\n",
       "    }\n",
       "\n",
       "    .dataframe tbody tr th {\n",
       "        vertical-align: top;\n",
       "    }\n",
       "\n",
       "    .dataframe thead th {\n",
       "        text-align: right;\n",
       "    }\n",
       "</style>\n",
       "<table border=\"1\" class=\"dataframe\">\n",
       "  <thead>\n",
       "    <tr style=\"text-align: right;\">\n",
       "      <th></th>\n",
       "      <th>id</th>\n",
       "      <th>funded_amount</th>\n",
       "      <th>loan_amount</th>\n",
       "      <th>partner_id</th>\n",
       "      <th>term_in_months</th>\n",
       "      <th>lender_count</th>\n",
       "    </tr>\n",
       "  </thead>\n",
       "  <tbody>\n",
       "    <tr>\n",
       "      <th>count</th>\n",
       "      <td>6.712050e+05</td>\n",
       "      <td>671205.000000</td>\n",
       "      <td>671205.000000</td>\n",
       "      <td>657698.000000</td>\n",
       "      <td>671205.000000</td>\n",
       "      <td>671205.000000</td>\n",
       "    </tr>\n",
       "    <tr>\n",
       "      <th>mean</th>\n",
       "      <td>9.932486e+05</td>\n",
       "      <td>785.995061</td>\n",
       "      <td>842.397107</td>\n",
       "      <td>178.199616</td>\n",
       "      <td>13.739022</td>\n",
       "      <td>20.590922</td>\n",
       "    </tr>\n",
       "    <tr>\n",
       "      <th>std</th>\n",
       "      <td>1.966113e+05</td>\n",
       "      <td>1130.398941</td>\n",
       "      <td>1198.660073</td>\n",
       "      <td>94.247581</td>\n",
       "      <td>8.598919</td>\n",
       "      <td>28.459551</td>\n",
       "    </tr>\n",
       "    <tr>\n",
       "      <th>min</th>\n",
       "      <td>6.530470e+05</td>\n",
       "      <td>0.000000</td>\n",
       "      <td>25.000000</td>\n",
       "      <td>9.000000</td>\n",
       "      <td>1.000000</td>\n",
       "      <td>0.000000</td>\n",
       "    </tr>\n",
       "    <tr>\n",
       "      <th>25%</th>\n",
       "      <td>8.230720e+05</td>\n",
       "      <td>250.000000</td>\n",
       "      <td>275.000000</td>\n",
       "      <td>126.000000</td>\n",
       "      <td>8.000000</td>\n",
       "      <td>7.000000</td>\n",
       "    </tr>\n",
       "    <tr>\n",
       "      <th>50%</th>\n",
       "      <td>9.927800e+05</td>\n",
       "      <td>450.000000</td>\n",
       "      <td>500.000000</td>\n",
       "      <td>145.000000</td>\n",
       "      <td>13.000000</td>\n",
       "      <td>13.000000</td>\n",
       "    </tr>\n",
       "    <tr>\n",
       "      <th>75%</th>\n",
       "      <td>1.163653e+06</td>\n",
       "      <td>900.000000</td>\n",
       "      <td>1000.000000</td>\n",
       "      <td>204.000000</td>\n",
       "      <td>14.000000</td>\n",
       "      <td>24.000000</td>\n",
       "    </tr>\n",
       "    <tr>\n",
       "      <th>max</th>\n",
       "      <td>1.340339e+06</td>\n",
       "      <td>100000.000000</td>\n",
       "      <td>100000.000000</td>\n",
       "      <td>536.000000</td>\n",
       "      <td>158.000000</td>\n",
       "      <td>2986.000000</td>\n",
       "    </tr>\n",
       "  </tbody>\n",
       "</table>\n",
       "</div>"
      ],
      "text/plain": [
       "                 id  funded_amount    loan_amount     partner_id  \\\n",
       "count  6.712050e+05  671205.000000  671205.000000  657698.000000   \n",
       "mean   9.932486e+05     785.995061     842.397107     178.199616   \n",
       "std    1.966113e+05    1130.398941    1198.660073      94.247581   \n",
       "min    6.530470e+05       0.000000      25.000000       9.000000   \n",
       "25%    8.230720e+05     250.000000     275.000000     126.000000   \n",
       "50%    9.927800e+05     450.000000     500.000000     145.000000   \n",
       "75%    1.163653e+06     900.000000    1000.000000     204.000000   \n",
       "max    1.340339e+06  100000.000000  100000.000000     536.000000   \n",
       "\n",
       "       term_in_months   lender_count  \n",
       "count   671205.000000  671205.000000  \n",
       "mean        13.739022      20.590922  \n",
       "std          8.598919      28.459551  \n",
       "min          1.000000       0.000000  \n",
       "25%          8.000000       7.000000  \n",
       "50%         13.000000      13.000000  \n",
       "75%         14.000000      24.000000  \n",
       "max        158.000000    2986.000000  "
      ]
     },
     "execution_count": 10,
     "metadata": {},
     "output_type": "execute_result"
    }
   ],
   "source": [
    "# Overview of the dataset:\n",
    "\n",
    "kiva_loans.describe()"
   ]
  },
  {
   "cell_type": "markdown",
   "metadata": {},
   "source": [
    "## <a id='missingvalues'>3.5 Checking if any of the columns have any missing values:</a>"
   ]
  },
  {
   "cell_type": "code",
   "execution_count": 13,
   "metadata": {},
   "outputs": [
    {
     "data": {
      "text/html": [
       "<div>\n",
       "<style scoped>\n",
       "    .dataframe tbody tr th:only-of-type {\n",
       "        vertical-align: middle;\n",
       "    }\n",
       "\n",
       "    .dataframe tbody tr th {\n",
       "        vertical-align: top;\n",
       "    }\n",
       "\n",
       "    .dataframe thead th {\n",
       "        text-align: right;\n",
       "    }\n",
       "</style>\n",
       "<table border=\"1\" class=\"dataframe\">\n",
       "  <thead>\n",
       "    <tr style=\"text-align: right;\">\n",
       "      <th></th>\n",
       "      <th>total_null</th>\n",
       "    </tr>\n",
       "  </thead>\n",
       "  <tbody>\n",
       "    <tr>\n",
       "      <th>tags</th>\n",
       "      <td>171416</td>\n",
       "    </tr>\n",
       "    <tr>\n",
       "      <th>region</th>\n",
       "      <td>56800</td>\n",
       "    </tr>\n",
       "    <tr>\n",
       "      <th>funded_time</th>\n",
       "      <td>48331</td>\n",
       "    </tr>\n",
       "    <tr>\n",
       "      <th>partner_id</th>\n",
       "      <td>13507</td>\n",
       "    </tr>\n",
       "    <tr>\n",
       "      <th>use</th>\n",
       "      <td>4232</td>\n",
       "    </tr>\n",
       "    <tr>\n",
       "      <th>borrower_genders</th>\n",
       "      <td>4221</td>\n",
       "    </tr>\n",
       "    <tr>\n",
       "      <th>disbursed_time</th>\n",
       "      <td>2396</td>\n",
       "    </tr>\n",
       "    <tr>\n",
       "      <th>country_code</th>\n",
       "      <td>8</td>\n",
       "    </tr>\n",
       "    <tr>\n",
       "      <th>date</th>\n",
       "      <td>0</td>\n",
       "    </tr>\n",
       "    <tr>\n",
       "      <th>funded_amount</th>\n",
       "      <td>0</td>\n",
       "    </tr>\n",
       "    <tr>\n",
       "      <th>loan_amount</th>\n",
       "      <td>0</td>\n",
       "    </tr>\n",
       "    <tr>\n",
       "      <th>activity</th>\n",
       "      <td>0</td>\n",
       "    </tr>\n",
       "    <tr>\n",
       "      <th>sector</th>\n",
       "      <td>0</td>\n",
       "    </tr>\n",
       "    <tr>\n",
       "      <th>currency</th>\n",
       "      <td>0</td>\n",
       "    </tr>\n",
       "    <tr>\n",
       "      <th>country</th>\n",
       "      <td>0</td>\n",
       "    </tr>\n",
       "    <tr>\n",
       "      <th>repayment_interval</th>\n",
       "      <td>0</td>\n",
       "    </tr>\n",
       "    <tr>\n",
       "      <th>posted_time</th>\n",
       "      <td>0</td>\n",
       "    </tr>\n",
       "    <tr>\n",
       "      <th>term_in_months</th>\n",
       "      <td>0</td>\n",
       "    </tr>\n",
       "    <tr>\n",
       "      <th>lender_count</th>\n",
       "      <td>0</td>\n",
       "    </tr>\n",
       "    <tr>\n",
       "      <th>id</th>\n",
       "      <td>0</td>\n",
       "    </tr>\n",
       "  </tbody>\n",
       "</table>\n",
       "</div>"
      ],
      "text/plain": [
       "                    total_null\n",
       "tags                    171416\n",
       "region                   56800\n",
       "funded_time              48331\n",
       "partner_id               13507\n",
       "use                       4232\n",
       "borrower_genders          4221\n",
       "disbursed_time            2396\n",
       "country_code                 8\n",
       "date                         0\n",
       "funded_amount                0\n",
       "loan_amount                  0\n",
       "activity                     0\n",
       "sector                       0\n",
       "currency                     0\n",
       "country                      0\n",
       "repayment_interval           0\n",
       "posted_time                  0\n",
       "term_in_months               0\n",
       "lender_count                 0\n",
       "id                           0"
      ]
     },
     "execution_count": 13,
     "metadata": {},
     "output_type": "execute_result"
    }
   ],
   "source": [
    "null_values = pd.DataFrame(kiva_loans.isnull().sum().sort_values(ascending=False))\n",
    "null_values.columns = ['total_null']\n",
    "null_values"
   ]
  },
  {
   "cell_type": "markdown",
   "metadata": {},
   "source": [
    "# <a id='kivaloans'>4 Analyzing Kiva's loans</a>"
   ]
  },
  {
   "cell_type": "markdown",
   "metadata": {},
   "source": [
    "## <a id='countries'>4.1 Displaying the countries that got the most loans:</a>"
   ]
  },
  {
   "cell_type": "code",
   "execution_count": 48,
   "metadata": {},
   "outputs": [
    {
     "data": {
      "image/png": "[encoded data removed]",
      "text/plain": [
       "<matplotlib.figure.Figure at 0x111356588>"
      ]
     },
     "metadata": {},
     "output_type": "display_data"
    }
   ],
   "source": [
    "# Displaying the top 10 countries that got the biggest dollar amount in loans:\n",
    "\n",
    "countries = pd.DataFrame(kiva_loans['country'].value_counts(sort=['loan_amount']).head(10))\n",
    "countries.reset_index(inplace=True)\n",
    "countries.columns = ['country', 'total_loaned']\n",
    "\n",
    "# Displaying the results in a graph:\n",
    "\n",
    "plt.figure(figsize=(20, 7))\n",
    "\n",
    "sns.set(style=\"whitegrid\")\n",
    "barplot = sns.barplot(x=countries['country'], y=countries['total_loaned'])\n",
    "barplot.set(xlabel='', ylabel='')\n",
    "plt.title('Top 10 countries that got the most loans:', fontsize=17)\n",
    "plt.xticks(rotation=60, fontsize=15)\n",
    "plt.show()"
   ]
  },
  {
   "cell_type": "markdown",
   "metadata": {},
   "source": [
    "According to the dataset, Kiva is investing more than twice the amount of money into the Philippines than the 2nd country (Kenya). The 4rs and 10th country have similar amounts of loans."
   ]
  },
  {
   "cell_type": "markdown",
   "metadata": {},
   "source": [
    "## <a id='sectors'>4.2 Displaying the sectors that got the most money invested:</a>"
   ]
  },
  {
   "cell_type": "code",
   "execution_count": 52,
   "metadata": {},
   "outputs": [
    {
     "data": {
      "image/png": "[encoded data removed]",
      "text/plain": [
       "<matplotlib.figure.Figure at 0x110bd4e10>"
      ]
     },
     "metadata": {},
     "output_type": "display_data"
    }
   ],
   "source": [
    "# Displaying the top sectors where money was invested:\n",
    "\n",
    "sectors = pd.DataFrame(kiva_loans['sector'].value_counts(sort=['loan_amount']))\n",
    "sectors.reset_index(inplace=True)\n",
    "sectors.columns = ['sector', 'total_loaned']\n",
    "sectors\n",
    "\n",
    "# Displaying the results in a graph:\n",
    "\n",
    "plt.figure(figsize=(20, 7))\n",
    "\n",
    "sns.set_style(\"whitegrid\")\n",
    "barplot = sns.barplot(x=sectors['sector'], y=sectors['total_loaned'])\n",
    "barplot.set(xlabel='', ylabel='')\n",
    "plt.title('Displaying all the sectors that got loans:', fontsize=17)\n",
    "plt.xticks(rotation=60, fontsize=15)\n",
    "plt.show()"
   ]
  },
  {
   "cell_type": "markdown",
   "metadata": {},
   "source": [
    "Agriculture seems to be the most popular investment for Kiva, followed by food and retail slighlty lagging behind. This will make sense since agriculture tends to be the most common investment for poor countries, with a low level of training and easily accissible to people."
   ]
  },
  {
   "cell_type": "markdown",
   "metadata": {},
   "source": [
    "## <a id='kivalenders'>4.3 Analyzing the lenders for kiva:</a>"
   ]
  },
  {
   "cell_type": "code",
   "execution_count": null,
   "metadata": {},
   "outputs": [],
   "source": [
    "kiva_lenders_sex = pd.DataFrame(kiva_loans['borrower_genders'].str.count('female'))\n",
    "kiva_lenders_sex.head()"
   ]
  },
  {
   "cell_type": "code",
   "execution_count": null,
   "metadata": {},
   "outputs": [],
   "source": []
  },
  {
   "cell_type": "code",
   "execution_count": null,
   "metadata": {},
   "outputs": [],
   "source": []
  },
  {
   "cell_type": "code",
   "execution_count": null,
   "metadata": {},
   "outputs": [],
   "source": []
  },
  {
   "cell_type": "code",
   "execution_count": null,
   "metadata": {},
   "outputs": [],
   "source": []
  },
  {
   "cell_type": "markdown",
   "metadata": {},
   "source": [
    "# <a id='philippines'>3.0 Analyzing the Philippines</a>"
   ]
  },
  {
   "cell_type": "markdown",
   "metadata": {},
   "source": [
    "## <a id='philippinesintro'>3.1 Introduction of the Philippines:</a>\n",
    "The Philippine Islands became a Spanish colony during the 16th century; they were ceded to the US in 1898 following the Spanish-American War. In 1935 the Philippines became a self-governing commonwealth. Manuel QUEZON was elected president and was tasked with preparing the country for independence after a 10-year transition. In 1942 the islands fell under Japanese occupation during World War II, and US forces and Filipinos fought together during 1944-45 to regain control. On 4 July 1946 the Republic of the Philippines attained its independence. A 20-year rule by Ferdinand MARCOS ended in 1986, when a \"people power\" movement in Manila (\"EDSA 1\") forced him into exile and installed Corazon AQUINO as president. Her presidency was hampered by several coup attempts that prevented a return to full political stability and economic development. Fidel RAMOS was elected president in 1992. His administration was marked by increased stability and by progress on economic reforms. In 1992, the US closed its last military bases on the islands. Joseph ESTRADA was elected president in 1998. He was succeeded by his vice-president, Gloria MACAPAGAL-ARROYO, in January 2001 after ESTRADA's stormy impeachment trial on corruption charges broke down and another \"people power\" movement (\"EDSA 2\") demanded his resignation. MACAPAGAL-ARROYO was elected to a six-year term as president in May 2004. Her presidency was marred by several corruption allegations but the Philippine economy was one of the few to avoid contraction following the 2008 global financial crisis, expanding each year of her administration. Benigno AQUINO III was elected to a six-year term as president in May 2010 and was succeeded by Rodrigo DUTERTE in May 2016.<br>\n",
    "The Philippine Government faces threats from several groups, some of which are on the US Government's Foreign Terrorist Organization list. Manila has waged a decades-long struggle against ethnic Moro insurgencies in the southern Philippines, which has led to a peace accord with the Moro National Liberation Front and ongoing peace talks with the Moro Islamic Liberation Front. The decades-long Maoist-inspired New People's Army insurgency also operates through much of the country. In 2016, Philippine armed forces battled an ISIS-Philippines siege in Marawi City, driving DUTERTE to declare martial law in the region. The Philippines faces increased tension with China over disputed territorial and maritime claims in the South China Sea.<br>\n",
    "<em>source: https://www.cia.gov/library/publications/the-world-factbook/geos/rp.html</em>"
   ]
  },
  {
   "cell_type": "markdown",
   "metadata": {},
   "source": [
    "## <a id='philippinesdataset'>3.2 Analyzing only the Philippines from the dataset:</a>"
   ]
  },
  {
   "cell_type": "code",
   "execution_count": null,
   "metadata": {},
   "outputs": [],
   "source": [
    "# Saving the Philippines in a variable:\n",
    "\n",
    "philippines = pd.DataFrame(kiva_loans[kiva_loans['country'] == 'Philippines'])\n",
    "philippines.head()"
   ]
  },
  {
   "cell_type": "markdown",
   "metadata": {},
   "source": [
    "### <a id='philippinesloans'>3.2.1 Displaying where the loans are going based in the sector:</a>"
   ]
  },
  {
   "cell_type": "code",
   "execution_count": null,
   "metadata": {},
   "outputs": [],
   "source": [
    "philippines_sectors = pd.DataFrame(philippines['sector'].value_counts(sort=['loan_amount']))\n",
    "philippines_sectors.reset_index(inplace=True)\n",
    "philippines_sectors.columns = ['sector', 'total_loaned']\n",
    "philippines_sectors"
   ]
  },
  {
   "cell_type": "code",
   "execution_count": null,
   "metadata": {},
   "outputs": [],
   "source": [
    "plt.figure(figsize=(15, 7))\n",
    "\n",
    "sns.set_style('whitegrid')\n",
    "sns.barplot(x=philippines_sectors['sector'], y=philippines_sectors['total_loaned'])\n",
    "plt.title(\"Philippines' sectors ordered by total loaned:\", fontsize=17)\n",
    "plt.xticks(rotation=60, fontsize=15)\n",
    "plt.xlabel('')\n",
    "plt.ylabel('')\n",
    "plt.show()"
   ]
  },
  {
   "cell_type": "markdown",
   "metadata": {},
   "source": [
    "Surprinsigly, in the case of the Philippines; Kiva decided to invest more in retail, food and then agriculture respectively. Let's analyze the reasoning for this."
   ]
  },
  {
   "cell_type": "markdown",
   "metadata": {},
   "source": [
    "### <a id='philippinesretail'>3.2.2 Analyzing the retail sector:</a>"
   ]
  },
  {
   "cell_type": "code",
   "execution_count": null,
   "metadata": {},
   "outputs": [],
   "source": [
    "# Saving only the loans that were used in General Stores:\n",
    "\n",
    "philippines_retail = philippines[philippines['sector'] == 'Retail']\n",
    "philippines_retail.head()"
   ]
  },
  {
   "cell_type": "markdown",
   "metadata": {},
   "source": [
    "### <a id='philippinesactivity'>3.2.3 Analyzing the most common usage of loans in retail</a>"
   ]
  },
  {
   "cell_type": "code",
   "execution_count": null,
   "metadata": {},
   "outputs": [],
   "source": [
    "# Analyzing the most common usage of money in general stores:\n",
    "\n",
    "philippines_use = pd.DataFrame(philippines_retail['use'].value_counts())\n",
    "philippines_use.reset_index(inplace=True)\n",
    "philippines_use.columns = ['use', 'total']\n",
    "philippines_use.head(15)"
   ]
  },
  {
   "cell_type": "code",
   "execution_count": null,
   "metadata": {},
   "outputs": [],
   "source": [
    "# Displaying the results in a pie chart:\n",
    "\n",
    "plt.figure(figsize=(15, 15))\n",
    "\n",
    "plt.pie(philippines_use['total'][:10], labels=philippines_use['use'][:10])\n",
    "plt.axis('equal')\n",
    "plt.show()"
   ]
  },
  {
   "cell_type": "markdown",
   "metadata": {},
   "source": [
    "Most of the borrowers have a tendency of buying groceries but they are resold to other people. In fact, the top 10 uses for loans are for buying groceries and resell them.\n",
    "There can be many reasons for this:\n",
    "* Some people can own smaller stores and sell merchandise to their clients.\n",
    "* Others can sell them without having any stores and try to make a profit.\n",
    "It also makes me believe that this borrowing pattern could be inflating the Philippines' loan distribution since it is the most popular reason to ask for a loan. It explains why food and agriculture are 2nd and 3rd respectively.\n",
    "\n",
    "My questions then will be, if there is a way to find if the borrowers are selling these products at a higher price? Since the resell of products could lead to inflation of prices on basic foods, this can prevent for the unfortunate person to not be able to afford these inflated prices."
   ]
  },
  {
   "cell_type": "markdown",
   "metadata": {},
   "source": [
    "### <a id='philippinestimeline'>3.2.4 Analyzing whether this borrowing pattern has increased overtime based on the timeline provided in the dataset:</a>"
   ]
  },
  {
   "cell_type": "code",
   "execution_count": null,
   "metadata": {},
   "outputs": [],
   "source": [
    "# Changing the date column to to_datetime:\n",
    "\n",
    "philippines['date'] = pd.to_datetime(philippines['date'])\n",
    "philippines['year'] = pd.DataFrame(philippines['date'].dt.year)"
   ]
  },
  {
   "cell_type": "code",
   "execution_count": null,
   "metadata": {},
   "outputs": [],
   "source": [
    "# Displaying the year by year loan amounts:\n",
    "\n",
    "plt.figure(figsize=(15, 7))\n",
    "\n",
    "sns.set_style(\"whitegrid\")\n",
    "sns.countplot(x=philippines['year'], data=philippines)\n",
    "plt.xticks(rotation=60, fontsize=15)\n",
    "plt.title(\"Year Loan Counting\", fontsize=17)\n",
    "plt.xlabel(\"\")\n",
    "plt.ylabel(\"Loan Amount\", fontsize=15)\n",
    "plt.plot()"
   ]
  },
  {
   "cell_type": "markdown",
   "metadata": {},
   "source": [
    "It seems that the Philippines loan amount decreased exponentially in 2017 (lower than 2014 and by almost half from the year before). The consequences are not very clear, but can it be related to the growing trend of buying and selling groceries?"
   ]
  },
  {
   "cell_type": "markdown",
   "metadata": {},
   "source": [
    "### <a id='#philippinesrepayment'>3.2.4 Analyzing if Philippines repays the loans:</a>"
   ]
  },
  {
   "cell_type": "code",
   "execution_count": null,
   "metadata": {},
   "outputs": [],
   "source": [
    "philippines.head()"
   ]
  },
  {
   "cell_type": "code",
   "execution_count": null,
   "metadata": {},
   "outputs": [],
   "source": []
  },
  {
   "cell_type": "code",
   "execution_count": null,
   "metadata": {},
   "outputs": [],
   "source": []
  },
  {
   "cell_type": "code",
   "execution_count": null,
   "metadata": {},
   "outputs": [],
   "source": []
  },
  {
   "cell_type": "code",
   "execution_count": null,
   "metadata": {},
   "outputs": [],
   "source": []
  },
  {
   "cell_type": "code",
   "execution_count": null,
   "metadata": {},
   "outputs": [],
   "source": []
  },
  {
   "cell_type": "markdown",
   "metadata": {},
   "source": [
    "# <a id='kenya'>4.0 Analyzing Kenya</a>"
   ]
  },
  {
   "cell_type": "markdown",
   "metadata": {},
   "source": [
    "## <a id='kenyaintro'>4.1 Introduction of Kenya:</a>"
   ]
  },
  {
   "cell_type": "markdown",
   "metadata": {},
   "source": [
    "Founding president and liberation struggle icon Jomo KENYATTA led Kenya from independence in 1963 until his death in 1978, when Vice President Daniel MOI took power in a constitutional succession. The country was a de facto one-party state from 1969 until 1982, after which time the ruling Kenya African National Union (KANU) changed the constitution to make itself the sole legal party in Kenya. MOI acceded to internal and external pressure for political liberalization in late 1991. The ethnically fractured opposition failed to dislodge KANU from power in elections in 1992 and 1997, which were marred by violence and fraud, but were viewed as having generally reflected the will of the Kenyan people. President MOI stepped down in December 2002 following fair and peaceful elections. Mwai KIBAKI, running as the candidate of the multiethnic, united opposition group, the National Rainbow Coalition (NARC), defeated KANU candidate Uhuru KENYATTA, the son of founding president Jomo KENYATTA, and assumed the presidency following a campaign centered on an anticorruption platform.<br>\n",
    "KIBAKI's reelection in December 2007 brought charges of vote rigging from Orange Democratic Movement (ODM) candidate Raila ODINGA and unleashed two months of violence in which approximately 1,100 people died. African Union-sponsored mediation led by former UN Secretary General Kofi ANNAN in late February 2008 resulted in a power-sharing accord bringing ODINGA into the government in the restored position of prime minister. The power sharing accord included a broad reform agenda, the centerpiece of which was constitutional reform. In August 2010, Kenyans overwhelmingly adopted a new constitution in a national referendum. The new constitution introduced additional checks and balances to executive power and significant devolution of power and resources to 47 newly created counties. It also eliminated the position of prime minister following the first presidential election under the new constitution, which occurred in March 2013. Uhuru KENYATTA won the election and was sworn into office in April 2013; he began a second term in November 2017.<br>\n",
    "<em>Source: https://www.cia.gov/library/publications/the-world-factbook/geos/ke.html</em>"
   ]
  },
  {
   "cell_type": "markdown",
   "metadata": {},
   "source": [
    "## <a id='kenyadataset'>4.2 Analyzing only Kenya from the dataset:</a>"
   ]
  },
  {
   "cell_type": "code",
   "execution_count": null,
   "metadata": {},
   "outputs": [],
   "source": [
    "kenya = pd.DataFrame(kiva_loans[kiva_loans['country'] == 'Kenya'])\n",
    "kenya.head()"
   ]
  },
  {
   "cell_type": "markdown",
   "metadata": {},
   "source": [
    "### <a id='kenyasector'>4.2.1 Displaying where the loans are going based in the sector:</a>"
   ]
  },
  {
   "cell_type": "code",
   "execution_count": null,
   "metadata": {},
   "outputs": [],
   "source": [
    "# Creating and saving the different sectors:\n",
    "\n",
    "kenya_sector = pd.DataFrame(kenya['sector'].value_counts(sort='loan_amount'))\n",
    "kenya_sector.reset_index(inplace=True)\n",
    "kenya_sector.columns = ['country', 'total_amount']\n",
    "kenya_sector"
   ]
  },
  {
   "cell_type": "code",
   "execution_count": null,
   "metadata": {},
   "outputs": [],
   "source": [
    "plt.figure(figsize=(15, 7))\n",
    "\n",
    "sns.set_style('whitegrid')\n",
    "sns.barplot(x=kenya_sector['country'], y=kenya_sector['total_amount'])\n",
    "plt.title('Displaying the all the sector and their repective loan amounts:', fontsize=17)\n",
    "plt.xticks(rotation=60, fontsize=15)\n",
    "plt.ylabel('')\n",
    "plt.xlabel('')\n",
    "plt.show()"
   ]
  },
  {
   "cell_type": "markdown",
   "metadata": {},
   "source": [
    "### <a id='kenyaactivity'>4.2.2 Analyzing the Agriculture sector in more detail:</a>"
   ]
  },
  {
   "cell_type": "code",
   "execution_count": null,
   "metadata": {},
   "outputs": [],
   "source": [
    "kenya_sector = pd.DataFrame(kenya[kenya['sector'] == 'Agriculture'])\n",
    "kenya_sector.head()"
   ]
  },
  {
   "cell_type": "code",
   "execution_count": null,
   "metadata": {},
   "outputs": [],
   "source": [
    "kenya_activity = pd.DataFrame(kenya_sector['activity'].value_counts(sort=['loan_amount']))\n",
    "kenya_activity.reset_index(inplace=True)\n",
    "kenya_activity.columns = ['activity', 'total_amount']\n",
    "kenya_activity.head(10)"
   ]
  },
  {
   "cell_type": "code",
   "execution_count": null,
   "metadata": {},
   "outputs": [],
   "source": [
    "# Displaying each activity in a pie chart:\n",
    "\n",
    "plt.figure(figsize=(12, 12))\n",
    "\n",
    "plt.pie(kenya_activity['total_amount'][:10], labels=kenya_activity['activity'][:10])\n",
    "plt.axis('equal')\n",
    "plt.show()"
   ]
  },
  {
   "cell_type": "markdown",
   "metadata": {},
   "source": [
    "Kenya's investment is more in par to the overall investments since agriculture is considered to be the more succesful type of investment in poor countries, with the highest yield of return and tends to have an accessible entry point for most people."
   ]
  },
  {
   "cell_type": "markdown",
   "metadata": {},
   "source": [
    "# <a id='salvador'>5.0 Analyzing El Salvador</a>"
   ]
  },
  {
   "cell_type": "markdown",
   "metadata": {},
   "source": [
    "## <a id='salvadorintro'>5.1 Introduction to El Salvador:</a>"
   ]
  },
  {
   "cell_type": "markdown",
   "metadata": {},
   "source": [
    "El Salvador achieved independence from Spain in 1821 and from the Central American Federation in 1839. A 12-year civil war, which cost about 75,000 lives, was brought to a close in 1992 when the government and leftist rebels signed a treaty that provided for military and political reforms. El Salvador is beset by one of the world’s highest homicide rates and pervasive criminal gangs.<br>\n",
    "<em>Source: https://www.cia.gov/library/publications/the-world-factbook/geos/es.html</em>"
   ]
  },
  {
   "cell_type": "markdown",
   "metadata": {},
   "source": [
    "## <a id='salvadordataset'>5.2 Displaying only El Salvador from the dataset:</a>"
   ]
  },
  {
   "cell_type": "code",
   "execution_count": null,
   "metadata": {},
   "outputs": [],
   "source": [
    "salvador = kiva_loans[kiva_loans['country'] == 'El Salvador']\n",
    "salvador.head()"
   ]
  },
  {
   "cell_type": "markdown",
   "metadata": {},
   "source": [
    "## <a id='salvadorsector'>5.3 Displaying where the loans are invested by sector:</a>"
   ]
  },
  {
   "cell_type": "code",
   "execution_count": null,
   "metadata": {},
   "outputs": [],
   "source": [
    "salvador_sector = pd.DataFrame(salvador['sector'].value_counts(sort='loan_amount'))\n",
    "salvador_sector.reset_index(inplace=True)\n",
    "salvador_sector.columns = ['sector', 'total_amount']\n",
    "salvador_sector"
   ]
  },
  {
   "cell_type": "code",
   "execution_count": null,
   "metadata": {},
   "outputs": [],
   "source": [
    "plt.figure(figsize=(15, 7))\n",
    "\n",
    "sns.set_style('whitegrid')\n",
    "sns.barplot(x=salvador_sector['sector'], y=salvador_sector['total_amount'])\n",
    "plt.title('Displaying each sector with their respective loan invested:', fontsize=17)\n",
    "plt.xticks(rotation=60, fontsize=15)\n",
    "plt.xlabel('')\n",
    "plt.ylabel('')\n",
    "plt.show()"
   ]
  },
  {
   "cell_type": "markdown",
   "metadata": {},
   "source": [
    "### <a id='salvadoractivity'>5.3.1 Analyzing the activities in agriculture:</a>"
   ]
  },
  {
   "cell_type": "code",
   "execution_count": null,
   "metadata": {},
   "outputs": [],
   "source": [
    "salvador_agriculture = salvador[salvador['sector'] == 'Agriculture']\n",
    "salvador_agriculture.head()"
   ]
  },
  {
   "cell_type": "code",
   "execution_count": null,
   "metadata": {},
   "outputs": [],
   "source": [
    "salvador_agriculture = pd.DataFrame(salvador_agriculture['activity'].value_counts(sort='loan_amount'))\n",
    "salvador_agriculture.reset_index(inplace=True)\n",
    "salvador_agriculture.columns = ['activity', 'total_amount']\n",
    "salvador_agriculture"
   ]
  },
  {
   "cell_type": "code",
   "execution_count": null,
   "metadata": {},
   "outputs": [],
   "source": [
    "plt.figure(figsize=(12, 12))\n",
    "\n",
    "plt.pie(salvador_agriculture['total_amount'][:10], labels=salvador_agriculture['activity'][:10])\n",
    "plt.axis('equal')\n",
    "plt.show()"
   ]
  },
  {
   "cell_type": "markdown",
   "metadata": {},
   "source": [
    "In El Salvador, agriculture is the main investments that is made followed by farming."
   ]
  },
  {
   "cell_type": "markdown",
   "metadata": {},
   "source": [
    "### <a id='salvadoruse'>5.3.2 Analyzing the different uses of the money in agriculture:</a>"
   ]
  },
  {
   "cell_type": "code",
   "execution_count": null,
   "metadata": {},
   "outputs": [],
   "source": [
    "salvador_use = pd.DataFrame(salvador[salvador['activity'] == 'Agriculture'])\n",
    "salvador_use.head()"
   ]
  },
  {
   "cell_type": "code",
   "execution_count": null,
   "metadata": {},
   "outputs": [],
   "source": [
    "salvador_use = pd.DataFrame(salvador_use['use'].value_counts(sort='loan_amount'))\n",
    "salvador_use.reset_index(inplace=True)\n",
    "salvador_use.columns = ['use', 'total_amount']\n",
    "salvador_use.head(10)"
   ]
  },
  {
   "cell_type": "code",
   "execution_count": null,
   "metadata": {},
   "outputs": [],
   "source": [
    "plt.figure(figsize=(12, 12))\n",
    "\n",
    "# patches, texts, autotexts = plt.pie(salvador_use['total_amount'][:10], labels=salvador_use['use'][:10])\n",
    "# texts[0].set_fontsize(12)\n",
    "# plt.show()\n",
    "\n",
    "plt.pie(salvador_use['total_amount'][:10], labels=salvador_use['use'][:10])\n",
    "plt.title('Displaying the top 10 usages of invested loans', fontsize=17)\n",
    "# plt.set_fontsize(12)\n",
    "plt.show()"
   ]
  },
  {
   "cell_type": "markdown",
   "metadata": {},
   "source": [
    "It seems that Salvadorians are investing most of their loans to buy supplies for agricultural supplies and development."
   ]
  },
  {
   "cell_type": "code",
   "execution_count": null,
   "metadata": {},
   "outputs": [],
   "source": []
  }
 ],
 "metadata": {
  "kernelspec": {
   "display_name": "Python [default]",
   "language": "python",
   "name": "python3"
  },
  "language_info": {
   "codemirror_mode": {
    "name": "ipython",
    "version": 3
   },
   "file_extension": ".py",
   "mimetype": "text/x-python",
   "name": "python",
   "nbconvert_exporter": "python",
   "pygments_lexer": "ipython3",
   "version": "3.5.3"
  }
 },
 "nbformat": 4,
 "nbformat_minor": 2
}
